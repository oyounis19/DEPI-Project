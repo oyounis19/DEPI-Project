{
 "cells": [
  {
   "cell_type": "markdown",
   "metadata": {},
   "source": [
    "# RAG (Retrieval Augmented Generation) with PHI-3.5\n",
    "\n",
    "This notebook is a implementation of the RAG model with PHI-3.5."
   ]
  },
  {
   "cell_type": "code",
   "execution_count": 1,
   "metadata": {},
   "outputs": [],
   "source": [
    "!pip install langchain langchain_groq langchain_community langchain_huggingface faiss-cpu sentence-transformers pypdf -q"
   ]
  },
  {
   "cell_type": "code",
   "execution_count": null,
   "metadata": {},
   "outputs": [],
   "source": [
    "%mkdir books"
   ]
  },
  {
   "cell_type": "code",
   "execution_count": 1,
   "metadata": {},
   "outputs": [],
   "source": [
    "from langchain_huggingface import HuggingFaceEmbeddings\n",
    "from langchain_community.vectorstores import FAISS\n",
    "from langchain.text_splitter import RecursiveCharacterTextSplitter\n",
    "from langchain.chains import RetrievalQA, LLMChain\n",
    "from langchain.document_loaders import PyPDFLoader\n",
    "from langchain.prompts import PromptTemplate\n",
    "from langchain.retrievers import ContextualCompressionRetriever\n",
    "from langchain.retrievers.document_compressors import LLMChainExtractor\n",
    "from langchain_groq import ChatGroq\n",
    "import os"
   ]
  },
  {
   "cell_type": "code",
   "execution_count": 2,
   "metadata": {},
   "outputs": [
    {
     "data": {
      "text/plain": [
       "\"page_content='synthesis process.\\nM-PHASE ENTRY AND EXIT\\nOnce the cell has copied the entire genome, \""
      ]
     },
     "execution_count": 2,
     "metadata": {},
     "output_type": "execute_result"
    }
   ],
   "source": [
    "# Load and preprocess the PDF documents\n",
    "def load_pdfs(file_paths):\n",
    "    documents = []\n",
    "    for path in file_paths:\n",
    "        loader = PyPDFLoader(path)\n",
    "        documents.extend(loader.load())\n",
    "    return documents\n",
    "\n",
    "pdf_files = [\"books/Cancer-Principles.pdf\"]\n",
    "documents = load_pdfs(pdf_files)\n",
    "\n",
    "# View page 101 of the first document (first 100 characters)\n",
    "str(documents[100])[:100]"
   ]
  },
  {
   "cell_type": "code",
   "execution_count": 3,
   "metadata": {},
   "outputs": [
    {
     "name": "stdout",
     "output_type": "stream",
     "text": [
      "Number of chunks: 50093\n"
     ]
    }
   ],
   "source": [
    "# Split text into chunks\n",
    "text_splitter = RecursiveCharacterTextSplitter(chunk_size=500,\n",
    "                                                chunk_overlap=100,\n",
    "                                                length_function=len)\n",
    "chunks = text_splitter.split_documents(documents)\n",
    "\n",
    "print(f\"Number of chunks: {len(chunks)}\")"
   ]
  },
  {
   "cell_type": "code",
   "execution_count": 5,
   "metadata": {},
   "outputs": [],
   "source": [
    "# Embed the chunks and save them in a vectorstore\n",
    "embedder = HuggingFaceEmbeddings(model_name=\"sentence-transformers/all-mpnet-base-v2\")\n",
    "vectorstore = FAISS.from_documents(chunks, embedder) if not os.path.exists(\"vectorstore\") else FAISS.load_local(\"vectorstore\", embedder, allow_dangerous_deserialization=True)\n",
    "\n",
    "# save the vectorstore\n",
    "vectorstore.save_local(\"vectorstore\") if not os.path.exists(\"vectorstore\") else None"
   ]
  },
  {
   "cell_type": "code",
   "execution_count": null,
   "metadata": {},
   "outputs": [],
   "source": [
    "# lets search for a query in the vectorstore\n",
    "query = \"What is cancer?\"\n",
    "k = 5  # Number of results to return\n",
    "similar_docs = vectorstore.similarity_search(query, k=k)"
   ]
  },
  {
   "cell_type": "code",
   "execution_count": 24,
   "metadata": {},
   "outputs": [
    {
     "data": {
      "text/plain": [
       "Document(metadata={'source': 'books/Cancer-Principles.pdf', 'page': 2373}, page_content='BCC-80.  Multiple basal cell carcinomas in a patient who received radiation therapy for acne 50 years earlier. Any new therapeutic moda lity that is practiced on the \\nskin today may yield unanticipated complications decades later. In most cases, it is difficult to anticipate what those effects  might be, and the need for effective current \\nmanagement typically outweighs unknown delayed risks.')"
      ]
     },
     "execution_count": 24,
     "metadata": {},
     "output_type": "execute_result"
    }
   ],
   "source": [
    "os.environ[\"GROQ_API_KEY\"] = \"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\"  # Set your Groq API key\n",
    "llm = ChatGroq(model_name=\"llama-3.1-8b-instant\", temperature=0.7)"
   ]
  },
  {
   "cell_type": "code",
   "execution_count": null,
   "metadata": {},
   "outputs": [],
   "source": [
    "# Create a retrieval chain\n",
    "retrieval_chain = RetrievalQA.from_chain_type(\n",
    "    chain_type=\n",
    ")"
   ]
  }
 ],
 "metadata": {
  "kernelspec": {
   "display_name": "py310",
   "language": "python",
   "name": "python3"
  },
  "language_info": {
   "codemirror_mode": {
    "name": "ipython",
    "version": 3
   },
   "file_extension": ".py",
   "mimetype": "text/x-python",
   "name": "python",
   "nbconvert_exporter": "python",
   "pygments_lexer": "ipython3",
   "version": "3.10.14"
  }
 },
 "nbformat": 4,
 "nbformat_minor": 2
}
