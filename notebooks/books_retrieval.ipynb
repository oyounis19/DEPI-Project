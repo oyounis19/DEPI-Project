{
 "cells": [
  {
   "cell_type": "markdown",
   "metadata": {},
   "source": [
    "# Download the knowledge base\n",
    "The knowledge base contains multiple books related to the medical field. Each book covers different topics and has a different number of pages."
   ]
  },
  {
   "cell_type": "code",
   "execution_count": 2,
   "metadata": {},
   "outputs": [
    {
     "name": "stdout",
     "output_type": "stream",
     "text": [
      "File books/Cancer-Principles.pdf doesn't exist, downloading...\n",
      "The file has been downloaded and saved as books/Cancer-Principles.pdf\n"
     ]
    }
   ],
   "source": [
    "import os\n",
    "import requests\n",
    "\n",
    "\n",
    "def download_pdf(url, pdf_path):\n",
    "    if not os.path.exists(pdf_path):\n",
    "        print(f\"File {pdf_path} doesn't exist, downloading...\")\n",
    "        response = requests.get(url)\n",
    "        if response.status_code == 200:\n",
    "            with open(pdf_path, \"wb\") as file:\n",
    "                file.write(response.content)\n",
    "            print(f\"The file has been downloaded and saved as {pdf_path}\")\n",
    "        else:\n",
    "            print(f\"Failed to download the file. Status code: {response.status_code}\")\n",
    "    else:\n",
    "        print(f\"File {pdf_path} already exists.\")\n",
    "\n",
    "pdfs = [\n",
    "    {\n",
    "        \"url\": \"https://oncouasd.files.wordpress.com/2014/09/cancer-principles-and-practice-of-oncology-6e.pdf\",\n",
    "        \"path\": \"books/Cancer-Principles.pdf\"\n",
    "    },\n",
    "    # {\n",
    "    #     \"url\": \"http://www.arritmiaonline.com.br/files/Braunwald---Heart-Disease---A-Textbook-of-Cardiovascular-Medicine-6th-ed.pdf\",\n",
    "    #     \"path\": \"Braunwald Heart Disease 6th Edition.pdf\"\n",
    "    # },\n",
    "\n",
    "\n",
    "    # {\n",
    "    #     \"url\": \"https://acta-endo.ro/2008/numarul1/fulltext/Williams Textbook of Endocrinology.pdf\",\n",
    "    #     \"path\": \"Williams Textbook of Endocrinology.pdf\"\n",
    "    # },\n",
    "\n",
    "    # {\n",
    "    #     \"url\": \"http://ndl.ethernet.edu.et/bitstream/123456789/18341/1/Benjamin J. Sadock.pdf\",\n",
    "    #     \"path\": \"Sadock Comprehensive Textbook of Psychiatry.pdf\"\n",
    "    # },\n",
    "    # {\n",
    "    #     \"url\": \"https://sci-hub.se/downloads/2019-10-30/8d/inadomi2019.pdf\",\n",
    "    #     \"path\": \"Inadomi Gastroenterology.pdf\"\n",
    "    # },\n",
    "    # {\n",
    "    #     \"url\": \"https://oshimu.com/wp-content/uploads/2021/07/Mandell-Douglas-and-Bennett’s-Infectious-Disease-Essentials-PDFDrive-.pdf\",\n",
    "    #     \"path\": \"Mandell Douglas Infectious Disease Essentials.pdf\"\n",
    "    # },\n",
    "\n",
    "    # {\n",
    "    #     \"url\": \"http://repository.stikesrspadgs.ac.id/44/1/Williams Obstetrics-1376hlm.pdf\",\n",
    "    #     \"path\": \"Williams Obstetrics.pdf\"\n",
    "    # },\n",
    "\n",
    "    # {\n",
    "    #     \"url\": \"http://students.aiu.edu/submissions/profiles/resources/onlineBook/p8q2a8_The_Science_of_Nutrition-_2nd_Edition.pdf\",\n",
    "    #     \"path\": \"The Science of Nutrition 2nd Edition.pdf\"\n",
    "    # },\n",
    "    # {\n",
    "    #     \"url\": \"https://pulmo-ua.com/wp-content/uploads/2021/12/Abul-K.-Abbas-MBBS-Andrew-H.-Lichtman-MD-PhD-Shiv-Pillai-MBBS-PhD-Cellular-and-Molecular-Immunology-Elsevier-2021.pdf\",\n",
    "    #     \"path\": \"Cellular and Molecular Immunology (2021).pdf\"\n",
    "    # }\n",
    "]\n",
    "for pdf in pdfs:\n",
    "    download_pdf(pdf[\"url\"], pdf[\"path\"])\n"
   ]
  }
 ],
 "metadata": {
  "kernelspec": {
   "display_name": "py310",
   "language": "python",
   "name": "python3"
  },
  "language_info": {
   "codemirror_mode": {
    "name": "ipython",
    "version": 3
   },
   "file_extension": ".py",
   "mimetype": "text/x-python",
   "name": "python",
   "nbconvert_exporter": "python",
   "pygments_lexer": "ipython3",
   "version": "3.10.14"
  }
 },
 "nbformat": 4,
 "nbformat_minor": 2
}
